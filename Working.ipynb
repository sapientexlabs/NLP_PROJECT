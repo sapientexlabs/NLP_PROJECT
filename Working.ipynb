{
 "cells": [
  {
   "cell_type": "markdown",
   "id": "b0b93839",
   "metadata": {},
   "source": [
    "## Natutal Language Processing mid-term\n",
    "\n",
    "A more innovative and advanced approach for 'fake-news' detection would better assist social media networks; with the technological resources necessary to identify truth and misinformation better. The notebook explored the dataset, 'Fake and real news' available from the Kaggle official website[1]. The natural-language processing mid-term aims to provide thorough research and analysis, supporting the solution to increasing fake-news identification through advanced text preprocessing, nested-cross validation and fine-tuned prediction modelling. In doing so, the project aims to provide sufficient evidence to support the effect of the multitude of technologies utilized to increase model prediction accuracy. \n",
    "\n",
    "In the 2022 digital economy, the globe is in the face of an epidemic, not only the COVID-19 virus but social media networks, spreading 'virus-like' fake news. The globally interconnected data economy and the ability to share, access, and create information have caused unprecedented and unimaginable ways to connect with friends, family, and people across the globe. Allowing users to gain insight into cultures, find people of like-minded interest and access information in a few presses of buttons, an unbelievable breakthrough unforeseen to most people twenty years ago. At the same time, social media networks have allowed incredible innovations in connecting and sharing information with friends and loved ones. In this new innovative digital and interconnected world, the ability for users to access and create information has inadvertently enabled nefarious content creators to spread rumours, lies, and misinformation - misleading users that the data is valid. \n",
    "\n",
    "According to GlobalWebIndex, Hootsuite, DataReportal, the average internet user spends 145 minutes on social media each day globally [2]. Putting the statistic in scope equates roughly 2.4 hours per day and 882 hours per year.\n",
    "\n",
    "\n",
    "![time](img/time.png)\n",
    "\n",
    "\n",
    "Also reported, 35% of social media users worldwide use social media to read news stories [3]. Furthermore, the statistic does not remove 65% of users from the current 'fake-news' epidemic; internet social media content consumers are unwillingly exposed to misinformation.\n",
    "\n",
    "\n",
    "![usage](img/usuage.png)\n",
    "\n",
    "\n",
    "Statista reports, in 2022, the estimated number of social media users is 3.92 billion and is forecasted to reach 4.41 billion by the year 2025 [4]. \n",
    "\n",
    "\n",
    "![users](img/users.png)\n",
    "\n",
    "\n",
    "On January 6th, 2021, precisely one-year ago from this writing, an insurrection of Capitol hill took place [5]. Where misled and misinformed protestors aimed to overthrow and destroy American democracy. Social media and false statements of the former president fueled protestors with the misbelief of voter fraud & rigged voting machines, which led to an invalid election. The residual result of The Insurrection on Capitol hill caused the death of five individuals and widespread distrust of American democracy, all unnecessary and fueled by lies. This example brings awareness and possible consequences of misinformation news on social media and its effects in real-life. While some of the impacts are easily seen and understood, the long-term implications of January 6th, 2021's Capitol Insurrection have not occurred. \n",
    "\n",
    "Although the Capitol Insurrection is not an isolated incident, recent innovations in natural language processing and machine learning show promising breakthroughs in creating a more well-informed internet audience to assist better and ensure news and information integrity. The long-term and social-economic effects of widespread misinformation are not predictable. My goal for the mid-term is to demonstrate the impact of minor & feasible adjustments to data preprocessing and model fitting to develop a more accurate and precise identification of news validation. In doing this, the project aims to provide evidence through research and analysis to support the possible impact of natural language processing and protecting the integrity of news information. "
   ]
  },
  {
   "cell_type": "markdown",
   "id": "61efe012",
   "metadata": {},
   "source": [
    "## BASELINE\n",
    "\n",
    "![baseline](img/baseline.png)\n",
    "\n",
    "The baseline for the project is a barebone 'fake-news' classifier with 76% prediction accuracy. The model uses basic text-preprocessing converting lowercase to all capital letters, bag-of-words and tokenization. The development of the barebone model took a few hours, and the prediction model utilized a multinomial Naive Bayes classification model. The summary of the results is in the confusion matrix above. \n",
    "\n",
    "## Solution\n",
    "\n",
    "The project solution implements new and innovates prior technologies operated on the baseline model; in doing so, it provides higher model prediction accuracy and precision through the implementation of advanced text preprocessing, nested-cross validation and fine-tuned prediction modelling. \n",
    "\n",
    "Advanced text preprocessing: Remove and hyperlink unwanted characters, punctuations, and stop words—advanced tokenization to group words and phrases better.\n",
    "\n",
    "Nested Cross-Validation: Nested cross-validation implemented to ensure model accuracy and prediction results across the different train and test data folds, to prove the withhold the research results integrity. \n",
    "\n",
    "Model tuning: adjustments made to the prediction model to more accurately predict 'real' or 'fake' values of the news dataset. "
   ]
  },
  {
   "cell_type": "markdown",
   "id": "21b11786",
   "metadata": {},
   "source": [
    "## LIBRARIES"
   ]
  },
  {
   "cell_type": "code",
   "execution_count": 1,
   "id": "4d4fbd16",
   "metadata": {},
   "outputs": [],
   "source": [
    "%matplotlib inline \n",
    "import pandas as pd \n",
    "import numpy as np \n",
    "from sklearn.feature_extraction.text import CountVectorizer,TfidfVectorizer,HashingVectorizer\n",
    "import re\n",
    "import string\n",
    "import seaborn as sns\n",
    "from nltk.corpus import stopwords\n",
    "from nltk.stem.porter import PorterStemmer\n",
    "from sklearn.feature_extraction.text import CountVectorizer\n",
    "from sklearn.model_selection import train_test_split\n",
    "import matplotlib.pyplot as plt\n",
    "from sklearn.naive_bayes import MultinomialNB\n",
    "from sklearn.linear_model import PassiveAggressiveClassifier\n",
    "from sklearn.utils import shuffle\n",
    "from sklearn.naive_bayes import MultinomialNB\n",
    "from sklearn.linear_model import LogisticRegression\n",
    "from sklearn.metrics import confusion_matrix\n",
    "from sklearn import metrics\n",
    "import numpy as np\n",
    "import itertools"
   ]
  },
  {
   "cell_type": "markdown",
   "id": "5814edc3",
   "metadata": {},
   "source": [
    "## DATASET INFORMATION\n",
    "\n",
    "The dataset: 'Fake and real news' is available from the Kaggle official website[1]\n",
    "\n",
    "The dataset download contained two CSV files. One file contains real news, and the other has fake news. Each CSV contains similar columns and rows of data; the combined size of the dataset is 44,898 entries. The size of the dataset is 116.4MB. The dataset includes the columns listed below:\n",
    "\n",
    "1. Title: The title of the news article\n",
    "2. Text: the text in the news article\n",
    "3. Subject: News, Politics, WorldNews, PoliticNews, Left-News, US-News, Government News, Middle east\n",
    "4. Date: date of publishing\n",
    "5. Target: True or Fake\n",
    "\n",
    "The initial column values were all originally Dtype objects. \n",
    "\n",
    "\n",
    "Adjustment to the dataset before text preprocessing:\n",
    "1. The first step created two data frames of the separate CSV files. \n",
    "2. Merged both data frames into a singular data frame\n",
    "3. Shuffled the combined dataset to prevent bias\n",
    "4. Dropped all empty values\n",
    "5. Converted true and fake to sting values of 1 and 0\n",
    "6. A created smaller copy of a dataset to shorten the time of text-processing \n",
    "\n",
    "Additional information on dataset and visualisation listed below.\n",
    "\n",
    "## UNDERSTANDING THE DATA"
   ]
  },
  {
   "cell_type": "code",
   "execution_count": 2,
   "id": "64be4ca3",
   "metadata": {},
   "outputs": [],
   "source": [
    "#Create Dataframe for both CSV Dataset Files\n",
    "fakedf = pd.read_csv('Dataset/Fake.csv')\n",
    "truedf = pd.read_csv('Dataset/True.csv')\n",
    "#Create target for fake and real news\n",
    "fakedf['target'] = 'fake'\n",
    "truedf['target'] = 'true'\n",
    "#Merge both Dataframes into Single Dataset Containing both real and fake news \n",
    "NewsData = pd.concat([fakedf, truedf]).reset_index(drop = True)\n",
    "#Mix the data, to prevent overfitting and dataset memorization \n",
    "NewsData = shuffle(NewsData)\n",
    "NewsData = NewsData.reset_index(drop=True)"
   ]
  },
  {
   "cell_type": "code",
   "execution_count": 3,
   "id": "a40e60b4",
   "metadata": {},
   "outputs": [
    {
     "data": {
      "text/html": [
       "<div>\n",
       "<style scoped>\n",
       "    .dataframe tbody tr th:only-of-type {\n",
       "        vertical-align: middle;\n",
       "    }\n",
       "\n",
       "    .dataframe tbody tr th {\n",
       "        vertical-align: top;\n",
       "    }\n",
       "\n",
       "    .dataframe thead th {\n",
       "        text-align: right;\n",
       "    }\n",
       "</style>\n",
       "<table border=\"1\" class=\"dataframe\">\n",
       "  <thead>\n",
       "    <tr style=\"text-align: right;\">\n",
       "      <th></th>\n",
       "      <th>title</th>\n",
       "      <th>text</th>\n",
       "      <th>subject</th>\n",
       "      <th>date</th>\n",
       "      <th>target</th>\n",
       "    </tr>\n",
       "  </thead>\n",
       "  <tbody>\n",
       "    <tr>\n",
       "      <th>0</th>\n",
       "      <td>U.N.'s de Mistura: Next Syria peace talks in G...</td>\n",
       "      <td>MOSCOW (Reuters) - U.N. special envoy on Syria...</td>\n",
       "      <td>worldnews</td>\n",
       "      <td>December 21, 2017</td>\n",
       "      <td>true</td>\n",
       "    </tr>\n",
       "    <tr>\n",
       "      <th>1</th>\n",
       "      <td>Russia says satellite launch failure due to pr...</td>\n",
       "      <td>MOSCOW (Reuters) - Russian Deputy Prime Minist...</td>\n",
       "      <td>worldnews</td>\n",
       "      <td>December 27, 2017</td>\n",
       "      <td>true</td>\n",
       "    </tr>\n",
       "    <tr>\n",
       "      <th>2</th>\n",
       "      <td>German police arrest Syrian suspect, avert 'ma...</td>\n",
       "      <td>BERLIN (Reuters) - German police arrested a 19...</td>\n",
       "      <td>worldnews</td>\n",
       "      <td>October 31, 2017</td>\n",
       "      <td>true</td>\n",
       "    </tr>\n",
       "    <tr>\n",
       "      <th>3</th>\n",
       "      <td>Trump to pitch 'America First' agenda in U.N. ...</td>\n",
       "      <td>WASHINGTON (Reuters) - President Donald Trump ...</td>\n",
       "      <td>politicsNews</td>\n",
       "      <td>September 14, 2017</td>\n",
       "      <td>true</td>\n",
       "    </tr>\n",
       "    <tr>\n",
       "      <th>4</th>\n",
       "      <td>French court demands 40 million euro bail for ...</td>\n",
       "      <td>MARSEILLE, France (Reuters) - A French judge h...</td>\n",
       "      <td>worldnews</td>\n",
       "      <td>December 6, 2017</td>\n",
       "      <td>true</td>\n",
       "    </tr>\n",
       "  </tbody>\n",
       "</table>\n",
       "</div>"
      ],
      "text/plain": [
       "                                               title  \\\n",
       "0  U.N.'s de Mistura: Next Syria peace talks in G...   \n",
       "1  Russia says satellite launch failure due to pr...   \n",
       "2  German police arrest Syrian suspect, avert 'ma...   \n",
       "3  Trump to pitch 'America First' agenda in U.N. ...   \n",
       "4  French court demands 40 million euro bail for ...   \n",
       "\n",
       "                                                text       subject  \\\n",
       "0  MOSCOW (Reuters) - U.N. special envoy on Syria...     worldnews   \n",
       "1  MOSCOW (Reuters) - Russian Deputy Prime Minist...     worldnews   \n",
       "2  BERLIN (Reuters) - German police arrested a 19...     worldnews   \n",
       "3  WASHINGTON (Reuters) - President Donald Trump ...  politicsNews   \n",
       "4  MARSEILLE, France (Reuters) - A French judge h...     worldnews   \n",
       "\n",
       "                  date target  \n",
       "0   December 21, 2017    true  \n",
       "1   December 27, 2017    true  \n",
       "2    October 31, 2017    true  \n",
       "3  September 14, 2017    true  \n",
       "4    December 6, 2017    true  "
      ]
     },
     "execution_count": 3,
     "metadata": {},
     "output_type": "execute_result"
    }
   ],
   "source": [
    "NewsData.head()"
   ]
  },
  {
   "cell_type": "code",
   "execution_count": 4,
   "id": "a68a93e3",
   "metadata": {},
   "outputs": [
    {
     "data": {
      "text/html": [
       "<div>\n",
       "<style scoped>\n",
       "    .dataframe tbody tr th:only-of-type {\n",
       "        vertical-align: middle;\n",
       "    }\n",
       "\n",
       "    .dataframe tbody tr th {\n",
       "        vertical-align: top;\n",
       "    }\n",
       "\n",
       "    .dataframe thead th {\n",
       "        text-align: right;\n",
       "    }\n",
       "</style>\n",
       "<table border=\"1\" class=\"dataframe\">\n",
       "  <thead>\n",
       "    <tr style=\"text-align: right;\">\n",
       "      <th></th>\n",
       "      <th>title</th>\n",
       "      <th>text</th>\n",
       "      <th>subject</th>\n",
       "      <th>date</th>\n",
       "      <th>target</th>\n",
       "    </tr>\n",
       "  </thead>\n",
       "  <tbody>\n",
       "    <tr>\n",
       "      <th>count</th>\n",
       "      <td>44898</td>\n",
       "      <td>44898</td>\n",
       "      <td>44898</td>\n",
       "      <td>44898</td>\n",
       "      <td>44898</td>\n",
       "    </tr>\n",
       "    <tr>\n",
       "      <th>unique</th>\n",
       "      <td>38729</td>\n",
       "      <td>38646</td>\n",
       "      <td>8</td>\n",
       "      <td>2397</td>\n",
       "      <td>2</td>\n",
       "    </tr>\n",
       "    <tr>\n",
       "      <th>top</th>\n",
       "      <td>Factbox: Trump fills top jobs for his administ...</td>\n",
       "      <td></td>\n",
       "      <td>politicsNews</td>\n",
       "      <td>December 20, 2017</td>\n",
       "      <td>fake</td>\n",
       "    </tr>\n",
       "    <tr>\n",
       "      <th>freq</th>\n",
       "      <td>14</td>\n",
       "      <td>627</td>\n",
       "      <td>11272</td>\n",
       "      <td>182</td>\n",
       "      <td>23481</td>\n",
       "    </tr>\n",
       "  </tbody>\n",
       "</table>\n",
       "</div>"
      ],
      "text/plain": [
       "                                                    title   text  \\\n",
       "count                                               44898  44898   \n",
       "unique                                              38729  38646   \n",
       "top     Factbox: Trump fills top jobs for his administ...          \n",
       "freq                                                   14    627   \n",
       "\n",
       "             subject                date target  \n",
       "count          44898               44898  44898  \n",
       "unique             8                2397      2  \n",
       "top     politicsNews  December 20, 2017    fake  \n",
       "freq           11272                 182  23481  "
      ]
     },
     "execution_count": 4,
     "metadata": {},
     "output_type": "execute_result"
    }
   ],
   "source": [
    "NewsData.describe()"
   ]
  },
  {
   "cell_type": "code",
   "execution_count": 5,
   "id": "6d799a95",
   "metadata": {},
   "outputs": [
    {
     "name": "stdout",
     "output_type": "stream",
     "text": [
      "<class 'pandas.core.frame.DataFrame'>\n",
      "RangeIndex: 44898 entries, 0 to 44897\n",
      "Data columns (total 5 columns):\n",
      " #   Column   Non-Null Count  Dtype \n",
      "---  ------   --------------  ----- \n",
      " 0   title    44898 non-null  object\n",
      " 1   text     44898 non-null  object\n",
      " 2   subject  44898 non-null  object\n",
      " 3   date     44898 non-null  object\n",
      " 4   target   44898 non-null  object\n",
      "dtypes: object(5)\n",
      "memory usage: 1.7+ MB\n"
     ]
    }
   ],
   "source": [
    "NewsData.info()"
   ]
  },
  {
   "cell_type": "code",
   "execution_count": 6,
   "id": "b71a27b6",
   "metadata": {},
   "outputs": [
    {
     "name": "stdout",
     "output_type": "stream",
     "text": [
      "title \n",
      " 0        U.N.'s de Mistura: Next Syria peace talks in G...\n",
      "1        Russia says satellite launch failure due to pr...\n",
      "2        German police arrest Syrian suspect, avert 'ma...\n",
      "3        Trump to pitch 'America First' agenda in U.N. ...\n",
      "4        French court demands 40 million euro bail for ...\n",
      "                               ...                        \n",
      "44893     Two Major Breaking Allegations Against Michae...\n",
      "44894     Top GOP Adviser Admits Hillary Clinton Would ...\n",
      "44895    Death toll from fighting in South Sudan's Grea...\n",
      "44896    U.S. extends overtime pay to 4.2 million salar...\n",
      "44897    OBAMA’S FUNDAMENTAL TRANSFORMATION: Census Rec...\n",
      "Name: title, Length: 44898, dtype: object \n",
      "\n",
      "text \n",
      " 0        MOSCOW (Reuters) - U.N. special envoy on Syria...\n",
      "1        MOSCOW (Reuters) - Russian Deputy Prime Minist...\n",
      "2        BERLIN (Reuters) - German police arrested a 19...\n",
      "3        WASHINGTON (Reuters) - President Donald Trump ...\n",
      "4        MARSEILLE, France (Reuters) - A French judge h...\n",
      "                               ...                        \n",
      "44893    In a day filled with breaking news stories, th...\n",
      "44894    Mitt Romney s top adviser in the 2012 election...\n",
      "44895    JUBA (Reuters) - The death toll from inter-cla...\n",
      "44896    (Reuters) - The Obama administration on Tuesda...\n",
      "44897    Adios America Census: Record 51 million immigr...\n",
      "Name: text, Length: 44898, dtype: object \n",
      "\n",
      "subject \n",
      " 0           worldnews\n",
      "1           worldnews\n",
      "2           worldnews\n",
      "3        politicsNews\n",
      "4           worldnews\n",
      "             ...     \n",
      "44893            News\n",
      "44894            News\n",
      "44895       worldnews\n",
      "44896    politicsNews\n",
      "44897       left-news\n",
      "Name: subject, Length: 44898, dtype: object \n",
      "\n",
      "date \n",
      " 0         December 21, 2017 \n",
      "1         December 27, 2017 \n",
      "2          October 31, 2017 \n",
      "3        September 14, 2017 \n",
      "4          December 6, 2017 \n",
      "                ...         \n",
      "44893           May 18, 2017\n",
      "44894          March 2, 2016\n",
      "44895     December 12, 2017 \n",
      "44896          May 18, 2016 \n",
      "44897           Apr 22, 2015\n",
      "Name: date, Length: 44898, dtype: object \n",
      "\n",
      "target \n",
      " 0        true\n",
      "1        true\n",
      "2        true\n",
      "3        true\n",
      "4        true\n",
      "         ... \n",
      "44893    fake\n",
      "44894    fake\n",
      "44895    true\n",
      "44896    true\n",
      "44897    fake\n",
      "Name: target, Length: 44898, dtype: object \n",
      "\n"
     ]
    }
   ],
   "source": [
    "for key,value in NewsData.items():\n",
    "    print(key,'\\n',value,'\\n')"
   ]
  },
  {
   "cell_type": "markdown",
   "id": "287541bd",
   "metadata": {},
   "source": [
    "## DATA VISUALIZATION "
   ]
  },
  {
   "cell_type": "code",
   "execution_count": 7,
   "id": "f39131e4",
   "metadata": {},
   "outputs": [
    {
     "data": {
      "text/plain": [
       "<AxesSubplot:xlabel='target', ylabel='count'>"
      ]
     },
     "execution_count": 7,
     "metadata": {},
     "output_type": "execute_result"
    },
    {
     "data": {
      "image/png": "[encoded data removed]",
      "text/plain": [
       "<Figure size 1152x648 with 1 Axes>"
      ]
     },
     "metadata": {
      "needs_background": "light"
     },
     "output_type": "display_data"
    }
   ],
   "source": [
    "plt.figure(figsize = (16, 9))\n",
    "sns.countplot(x = 'target', data =NewsData)"
   ]
  },
  {
   "cell_type": "code",
   "execution_count": 8,
   "id": "73a07c23",
   "metadata": {},
   "outputs": [
    {
     "data": {
      "text/plain": [
       "<AxesSubplot:xlabel='subject', ylabel='count'>"
      ]
     },
     "execution_count": 8,
     "metadata": {},
     "output_type": "execute_result"
    },
    {
     "data": {
      "image/png": "[encoded data removed]",
      "text/plain": [
       "<Figure size 1152x648 with 1 Axes>"
      ]
     },
     "metadata": {
      "needs_background": "light"
     },
     "output_type": "display_data"
    }
   ],
   "source": [
    "plt.figure(figsize = (16, 9))\n",
    "sns.countplot(x = 'subject', data =NewsData)"
   ]
  },
  {
   "cell_type": "code",
   "execution_count": 9,
   "id": "0a6b3e6e",
   "metadata": {},
   "outputs": [
    {
     "data": {
      "image/png": "[encoded data removed]",
      "text/plain": [
       "<Figure size 1728x1080 with 1 Axes>"
      ]
     },
     "metadata": {
      "needs_background": "light"
     },
     "output_type": "display_data"
    }
   ],
   "source": [
    "plt.figure(figsize = (24, 15))\n",
    "ax = sns.countplot(x = 'subject', hue = \"target\", data = NewsData)"
   ]
  },
  {
   "cell_type": "markdown",
   "id": "cd207425",
   "metadata": {},
   "source": [
    "## DATA PREP AND CLEANING"
   ]
  },
  {
   "cell_type": "code",
   "execution_count": 10,
   "id": "29cf9eb8",
   "metadata": {},
   "outputs": [],
   "source": [
    "#Drop Null Values\n",
    "NewsData = NewsData.dropna()\n",
    "#Convert True and False Values\n",
    "NewsData.target = NewsData.target.astype(str)\n",
    "NewsData.target = NewsData.target.str.strip()\n",
    "dict = { 'true' : '1' , 'fake' : '0'}\n",
    "NewsData['target'] = NewsData['target'].map(dict)"
   ]
  },
  {
   "cell_type": "code",
   "execution_count": 11,
   "id": "5e63ad05",
   "metadata": {},
   "outputs": [],
   "source": [
    "#Adjust columns in Newsdata\n",
    "NewsData['news']=NewsData['title']+NewsData['text']\n",
    "NewsData=NewsData.drop(['title', 'text'], axis=1)\n",
    "NewsData['date'].value_counts()\n",
    "#Make Dataset Smaller for Run time\n",
    "NewsData_S  = NewsData[:90]\n",
    "#Place independent features in X variable \n",
    "X = NewsData_S.drop('target',axis =1)\n",
    "#Place Values for True or False in Y-Value \n",
    "y = NewsData_S['target']\n",
    "#Creating a copy \n",
    "NewsData_Adjusted = NewsData_S.copy()"
   ]
  },
  {
   "cell_type": "markdown",
   "id": "178c3727",
   "metadata": {},
   "source": [
    "## TOKENIZATION AND TEXT PREPROCESSING\n",
    "\n",
    "Advanced text preprocessing: Remove and hyperlink unwanted characters, punctuations, and stop words—advanced tokenization to group words and phrases better."
   ]
  },
  {
   "cell_type": "code",
   "execution_count": 12,
   "id": "6efe3d30",
   "metadata": {},
   "outputs": [],
   "source": [
    "port_S = PorterStemmer()\n",
    "array_= []\n",
    "\n",
    "for i in range(0, len(NewsData_Adjusted)):\n",
    "      text_adj = re.sub('[^a-zA-Z]', ' ', NewsData_Adjusted['news'][i])\n",
    "      text_adj = re.sub('https?://\\S+|www\\.\\S+', '', NewsData_Adjusted['news'][i])\n",
    "      text_adj = re.sub('<.*?>+', '', NewsData_Adjusted['news'][i])\n",
    "      text_adj = re.sub('[%s]' % re.escape(string.punctuation), '', NewsData_Adjusted['news'][i])\n",
    "      text_adj = re.sub('\\n', '', NewsData_Adjusted['news'][i])\n",
    "      text_adj = re.sub('\\w*\\d\\w*', '', NewsData_Adjusted['news'][i])\n",
    "      text_adj = text_adj.lower()\n",
    "      text_adj = text_adj.split()\n",
    "      text_adj = [port_S.stem(word) for word in text_adj if not word in stopwords.words('english')]\n",
    "      text_adj = ' '.join(text_adj)\n",
    "      array_.append(text_adj)\n",
    "       "
   ]
  },
  {
   "cell_type": "markdown",
   "id": "e527be5d",
   "metadata": {},
   "source": [
    "## BAG OF WORDS MODEL AND COUNT VECTORS "
   ]
  },
  {
   "cell_type": "code",
   "execution_count": 13,
   "id": "6d197c25",
   "metadata": {},
   "outputs": [],
   "source": [
    "cv = CountVectorizer(max_features = 5000,ngram_range=(1,3))\n",
    "X = cv.fit_transform(array_).toarray()\n",
    "X.shape \n",
    "y =NewsData_Adjusted['target']"
   ]
  },
  {
   "cell_type": "markdown",
   "id": "10e0c83e",
   "metadata": {},
   "source": [
    "## NLP ML MODEL "
   ]
  },
  {
   "cell_type": "code",
   "execution_count": 14,
   "id": "22299ad3",
   "metadata": {},
   "outputs": [],
   "source": [
    "X_train,X_test,y_train,y_test = train_test_split(X,y,test_size = 0.4,random_state = 0)"
   ]
  },
  {
   "cell_type": "code",
   "execution_count": 15,
   "id": "be170e7d",
   "metadata": {},
   "outputs": [],
   "source": [
    "count_df = pd.DataFrame(X_train,columns = cv.get_feature_names())"
   ]
  },
  {
   "cell_type": "code",
   "execution_count": 16,
   "id": "65372422",
   "metadata": {},
   "outputs": [
    {
     "name": "stdout",
     "output_type": "stream",
     "text": [
      "Acc: 94.44 %\n"
     ]
    },
    {
     "data": {
      "text/plain": [
       "<AxesSubplot:>"
      ]
     },
     "execution_count": 16,
     "metadata": {},
     "output_type": "execute_result"
    },
    {
     "data": {
      "image/png": "[encoded data removed]",
      "text/plain": [
       "<Figure size 432x288 with 2 Axes>"
      ]
     },
     "metadata": {
      "needs_background": "light"
     },
     "output_type": "display_data"
    }
   ],
   "source": [
    "classifier = MultinomialNB()\n",
    "classifier.fit(X_train,y_train)\n",
    "pred = classifier.predict(X_test)\n",
    "\n",
    "# Evaluation of Results\n",
    "acc_score = metrics.accuracy_score(y_test,pred)\n",
    "percent_conv = acc_score * 100\n",
    "print(\"Acc: %0.2f\"%percent_conv,\"%\")\n",
    "cf_matrix = confusion_matrix(y_test, pred)\n",
    "sns.heatmap(cf_matrix, annot=True, cmap='Reds')"
   ]
  },
  {
   "cell_type": "markdown",
   "id": "759639f2",
   "metadata": {},
   "source": [
    "## CONCLUSION\n",
    "\n",
    "From the data in the notebook listed above, evidence supports applications of natural language processing to identify false, untrue misinformation. The implementation of advanced-text processing & fine-tune model prediction can significantly increase the model's accuracy. The initial baseline model predicted roughly 76%, with adjustments made in my project, the model accuracy ranged between 90% - 97%. A significant increase in accuracy would impact 20% of the data misidentified in the baseline model. The solution can be translated across any text classification domain where the result is either 0 or 1. Others can easily curate the project to their dataset, a few changes to the data preparation and processing section, and the code is helpful for other datasets with text classification values of 0 and 1. \n"
   ]
  },
  {
   "cell_type": "markdown",
   "id": "f975e486",
   "metadata": {},
   "source": [
    "## REFERENCES \n",
    "1. [1] Bisaillon, C. (n.d.). Fake and Real News Dataset. Retrieved January 7, 2022, from https://www.kaggle.com/clmentbisaillon/fake-and-real-news-dataset. \n",
    "2. [2] We Are Social, & DataReportal, & Hootsuite. (January 27, 2021). Daily time spent on social networking by internet users worldwide from 2012 to 2020 (in minutes) [Graph]. In Statista. Retrieved January 07, 2022, from https://www.statista.com/statistics/433871/daily-social-media-usage-worldwide/\n",
    "3. [3] GlobalWebIndex, & We Are Social, & GlobalWebIndex, & We Are Social, & Hootsuite, & DataReportal. (October 21, 2021). Most popular reasons for internet users worldwide to use social media as of 2nd quarter 2021 [Graph]. In Statista. Retrieved January 07, 2022, from https://www.statista.com/statistics/715449/social-media-usage-reasons-worldwide/\n",
    "4. [4] Statista. (July 15, 2020). Number of social network users worldwide from 2017 to 2025 (in billions) [Graph]. In Statista. Retrieved January 07, 2022, from https://www.statista.com/statistics/278414/number-of-worldwide-social-network-users/\n",
    "5. [5] Dale, D., &amp; Cohen, M. (2022, January 5). Fact check: Five enduring lies about the capitol insurrection. CNN. Retrieved January 7, 2022, from https://www.cnn.com/2022/01/04/politics/fact-check-capitol-insurrection-january-6-lies/index.html "
   ]
  }
 ],
 "metadata": {
  "kernelspec": {
   "display_name": "Python 3",
   "language": "python",
   "name": "python3"
  },
  "language_info": {
   "codemirror_mode": {
    "name": "ipython",
    "version": 3
   },
   "file_extension": ".py",
   "mimetype": "text/x-python",
   "name": "python",
   "nbconvert_exporter": "python",
   "pygments_lexer": "ipython3",
   "version": "3.7.10"
  }
 },
 "nbformat": 4,
 "nbformat_minor": 5
}
